{
  "nbformat": 4,
  "nbformat_minor": 0,
  "metadata": {
    "colab": {
      "name": "tensorflow-wavenet-generate.ipynb",
      "provenance": [],
      "collapsed_sections": [
        "LQZrKOiSb0mj"
      ],
      "include_colab_link": true
    },
    "kernelspec": {
      "name": "python3",
      "display_name": "Python 3"
    },
    "accelerator": "GPU"
  },
  "cells": [
    {
      "cell_type": "markdown",
      "metadata": {
        "id": "view-in-github",
        "colab_type": "text"
      },
      "source": [
        "<a href=\"https://colab.research.google.com/github/pelinski/colab-tensorflow-wavenet/blob/master/tensorflow_wavenet_generate.ipynb\" target=\"_parent\"><img src=\"https://colab.research.google.com/assets/colab-badge.svg\" alt=\"Open In Colab\"/></a>"
      ]
    },
    {
      "cell_type": "code",
      "metadata": {
        "id": "9SkdF71zbdNP"
      },
      "source": [
        "root_dir = \"/content/drive/MyDrive/WAVENETS/tensorflow-wavenet\"\n",
        "data_dir = \"/content/drive/MyDrive/WAVENETS/DATA\"\n",
        "silence_th = 0.1\n",
        "d_cp = 500 # checkpoint every"
      ],
      "execution_count": null,
      "outputs": []
    },
    {
      "cell_type": "markdown",
      "metadata": {
        "id": "LQZrKOiSb0mj"
      },
      "source": [
        "## drive + libraries"
      ]
    },
    {
      "cell_type": "code",
      "metadata": {
        "colab": {
          "base_uri": "https://localhost:8080/"
        },
        "id": "F7WJkcU6-kob",
        "outputId": "5d19f1f2-09ae-4887-8928-e177e5063202"
      },
      "source": [
        "from google.colab import drive\n",
        "drive.mount('/content/drive')"
      ],
      "execution_count": null,
      "outputs": [
        {
          "output_type": "stream",
          "text": [
            "Mounted at /content/drive\n"
          ],
          "name": "stdout"
        }
      ]
    },
    {
      "cell_type": "code",
      "metadata": {
        "colab": {
          "base_uri": "https://localhost:8080/"
        },
        "id": "scRW-y0TrBE8",
        "outputId": "de5d5d0b-b8f4-4169-aa68-70da128776c3"
      },
      "source": [
        "! pip install librosa==0.6.3\n",
        "! pip install tensorflow-gpu==1.15\n",
        "! pip install numba==0.48\n",
        "%tensorflow_version 1.x"
      ],
      "execution_count": null,
      "outputs": [
        {
          "output_type": "stream",
          "text": [
            "Collecting librosa==0.6.3\n",
            "\u001b[?25l  Downloading https://files.pythonhosted.org/packages/e9/7e/7a0f66f79a70a0a4c163ecf30429f6c1644c88654f135a9eee0bda457626/librosa-0.6.3.tar.gz (1.6MB)\n",
            "\u001b[K     |████████████████████████████████| 1.6MB 8.7MB/s \n",
            "\u001b[?25hRequirement already satisfied: audioread>=2.0.0 in /usr/local/lib/python3.7/dist-packages (from librosa==0.6.3) (2.1.9)\n",
            "Requirement already satisfied: numpy>=1.8.0 in /usr/local/lib/python3.7/dist-packages (from librosa==0.6.3) (1.19.5)\n",
            "Requirement already satisfied: scipy>=1.0.0 in /usr/local/lib/python3.7/dist-packages (from librosa==0.6.3) (1.4.1)\n",
            "Requirement already satisfied: scikit-learn!=0.19.0,>=0.14.0 in /usr/local/lib/python3.7/dist-packages (from librosa==0.6.3) (0.22.2.post1)\n",
            "Requirement already satisfied: joblib>=0.12 in /usr/local/lib/python3.7/dist-packages (from librosa==0.6.3) (1.0.1)\n",
            "Requirement already satisfied: decorator>=3.0.0 in /usr/local/lib/python3.7/dist-packages (from librosa==0.6.3) (4.4.2)\n",
            "Requirement already satisfied: six>=1.3 in /usr/local/lib/python3.7/dist-packages (from librosa==0.6.3) (1.15.0)\n",
            "Requirement already satisfied: resampy>=0.2.0 in /usr/local/lib/python3.7/dist-packages (from librosa==0.6.3) (0.2.2)\n",
            "Requirement already satisfied: numba>=0.38.0 in /usr/local/lib/python3.7/dist-packages (from librosa==0.6.3) (0.51.2)\n",
            "Requirement already satisfied: llvmlite<0.35,>=0.34.0.dev0 in /usr/local/lib/python3.7/dist-packages (from numba>=0.38.0->librosa==0.6.3) (0.34.0)\n",
            "Requirement already satisfied: setuptools in /usr/local/lib/python3.7/dist-packages (from numba>=0.38.0->librosa==0.6.3) (54.2.0)\n",
            "Building wheels for collected packages: librosa\n",
            "  Building wheel for librosa (setup.py) ... \u001b[?25l\u001b[?25hdone\n",
            "  Created wheel for librosa: filename=librosa-0.6.3-cp37-none-any.whl size=1573318 sha256=5d3e2ff0f358334377619afc338622865bb977e42f6f46fb1447141973f749fd\n",
            "  Stored in directory: /root/.cache/pip/wheels/ce/49/68/87ba660f30e3977f0778e39ee2e944629cd37c2a0ce41f9ff1\n",
            "Successfully built librosa\n",
            "Installing collected packages: librosa\n",
            "  Found existing installation: librosa 0.8.0\n",
            "    Uninstalling librosa-0.8.0:\n",
            "      Successfully uninstalled librosa-0.8.0\n",
            "Successfully installed librosa-0.6.3\n",
            "Collecting tensorflow-gpu==1.15\n",
            "\u001b[?25l  Downloading https://files.pythonhosted.org/packages/bc/72/d06017379ad4760dc58781c765376ce4ba5dcf3c08d37032eeefbccf1c51/tensorflow_gpu-1.15.0-cp37-cp37m-manylinux2010_x86_64.whl (411.5MB)\n",
            "\u001b[K     |████████████████████████████████| 411.5MB 40kB/s \n",
            "\u001b[?25hCollecting tensorboard<1.16.0,>=1.15.0\n",
            "\u001b[?25l  Downloading https://files.pythonhosted.org/packages/1e/e9/d3d747a97f7188f48aa5eda486907f3b345cd409f0a0850468ba867db246/tensorboard-1.15.0-py3-none-any.whl (3.8MB)\n",
            "\u001b[K     |████████████████████████████████| 3.8MB 42.1MB/s \n",
            "\u001b[?25hRequirement already satisfied: numpy<2.0,>=1.16.0 in /usr/local/lib/python3.7/dist-packages (from tensorflow-gpu==1.15) (1.19.5)\n",
            "Collecting gast==0.2.2\n",
            "  Downloading https://files.pythonhosted.org/packages/4e/35/11749bf99b2d4e3cceb4d55ca22590b0d7c2c62b9de38ac4a4a7f4687421/gast-0.2.2.tar.gz\n",
            "Requirement already satisfied: protobuf>=3.6.1 in /usr/local/lib/python3.7/dist-packages (from tensorflow-gpu==1.15) (3.12.4)\n",
            "Requirement already satisfied: grpcio>=1.8.6 in /usr/local/lib/python3.7/dist-packages (from tensorflow-gpu==1.15) (1.32.0)\n",
            "Requirement already satisfied: absl-py>=0.7.0 in /usr/local/lib/python3.7/dist-packages (from tensorflow-gpu==1.15) (0.12.0)\n",
            "Collecting tensorflow-estimator==1.15.1\n",
            "\u001b[?25l  Downloading https://files.pythonhosted.org/packages/de/62/2ee9cd74c9fa2fa450877847ba560b260f5d0fb70ee0595203082dafcc9d/tensorflow_estimator-1.15.1-py2.py3-none-any.whl (503kB)\n",
            "\u001b[K     |████████████████████████████████| 512kB 50.0MB/s \n",
            "\u001b[?25hRequirement already satisfied: keras-preprocessing>=1.0.5 in /usr/local/lib/python3.7/dist-packages (from tensorflow-gpu==1.15) (1.1.2)\n",
            "Requirement already satisfied: six>=1.10.0 in /usr/local/lib/python3.7/dist-packages (from tensorflow-gpu==1.15) (1.15.0)\n",
            "Requirement already satisfied: astor>=0.6.0 in /usr/local/lib/python3.7/dist-packages (from tensorflow-gpu==1.15) (0.8.1)\n",
            "Requirement already satisfied: google-pasta>=0.1.6 in /usr/local/lib/python3.7/dist-packages (from tensorflow-gpu==1.15) (0.2.0)\n",
            "Requirement already satisfied: opt-einsum>=2.3.2 in /usr/local/lib/python3.7/dist-packages (from tensorflow-gpu==1.15) (3.3.0)\n",
            "Requirement already satisfied: termcolor>=1.1.0 in /usr/local/lib/python3.7/dist-packages (from tensorflow-gpu==1.15) (1.1.0)\n",
            "Requirement already satisfied: wrapt>=1.11.1 in /usr/local/lib/python3.7/dist-packages (from tensorflow-gpu==1.15) (1.12.1)\n",
            "Collecting keras-applications>=1.0.8\n",
            "\u001b[?25l  Downloading https://files.pythonhosted.org/packages/71/e3/19762fdfc62877ae9102edf6342d71b28fbfd9dea3d2f96a882ce099b03f/Keras_Applications-1.0.8-py3-none-any.whl (50kB)\n",
            "\u001b[K     |████████████████████████████████| 51kB 5.2MB/s \n",
            "\u001b[?25hRequirement already satisfied: wheel>=0.26 in /usr/local/lib/python3.7/dist-packages (from tensorflow-gpu==1.15) (0.36.2)\n",
            "Requirement already satisfied: setuptools>=41.0.0 in /usr/local/lib/python3.7/dist-packages (from tensorboard<1.16.0,>=1.15.0->tensorflow-gpu==1.15) (54.2.0)\n",
            "Requirement already satisfied: markdown>=2.6.8 in /usr/local/lib/python3.7/dist-packages (from tensorboard<1.16.0,>=1.15.0->tensorflow-gpu==1.15) (3.3.4)\n",
            "Requirement already satisfied: werkzeug>=0.11.15 in /usr/local/lib/python3.7/dist-packages (from tensorboard<1.16.0,>=1.15.0->tensorflow-gpu==1.15) (1.0.1)\n",
            "Requirement already satisfied: h5py in /usr/local/lib/python3.7/dist-packages (from keras-applications>=1.0.8->tensorflow-gpu==1.15) (2.10.0)\n",
            "Requirement already satisfied: importlib-metadata; python_version < \"3.8\" in /usr/local/lib/python3.7/dist-packages (from markdown>=2.6.8->tensorboard<1.16.0,>=1.15.0->tensorflow-gpu==1.15) (3.8.1)\n",
            "Requirement already satisfied: typing-extensions>=3.6.4; python_version < \"3.8\" in /usr/local/lib/python3.7/dist-packages (from importlib-metadata; python_version < \"3.8\"->markdown>=2.6.8->tensorboard<1.16.0,>=1.15.0->tensorflow-gpu==1.15) (3.7.4.3)\n",
            "Requirement already satisfied: zipp>=0.5 in /usr/local/lib/python3.7/dist-packages (from importlib-metadata; python_version < \"3.8\"->markdown>=2.6.8->tensorboard<1.16.0,>=1.15.0->tensorflow-gpu==1.15) (3.4.1)\n",
            "Building wheels for collected packages: gast\n",
            "  Building wheel for gast (setup.py) ... \u001b[?25l\u001b[?25hdone\n",
            "  Created wheel for gast: filename=gast-0.2.2-cp37-none-any.whl size=7540 sha256=1e79615f850f53afbed356d6c6635fe7b7378a3cdfddeb248c6b1689a897b484\n",
            "  Stored in directory: /root/.cache/pip/wheels/5c/2e/7e/a1d4d4fcebe6c381f378ce7743a3ced3699feb89bcfbdadadd\n",
            "Successfully built gast\n",
            "\u001b[31mERROR: tensorflow 2.4.1 has requirement gast==0.3.3, but you'll have gast 0.2.2 which is incompatible.\u001b[0m\n",
            "\u001b[31mERROR: tensorflow 2.4.1 has requirement tensorboard~=2.4, but you'll have tensorboard 1.15.0 which is incompatible.\u001b[0m\n",
            "\u001b[31mERROR: tensorflow 2.4.1 has requirement tensorflow-estimator<2.5.0,>=2.4.0, but you'll have tensorflow-estimator 1.15.1 which is incompatible.\u001b[0m\n",
            "\u001b[31mERROR: tensorflow-probability 0.12.1 has requirement gast>=0.3.2, but you'll have gast 0.2.2 which is incompatible.\u001b[0m\n",
            "Installing collected packages: tensorboard, gast, tensorflow-estimator, keras-applications, tensorflow-gpu\n",
            "  Found existing installation: tensorboard 2.4.1\n",
            "    Uninstalling tensorboard-2.4.1:\n",
            "      Successfully uninstalled tensorboard-2.4.1\n",
            "  Found existing installation: gast 0.3.3\n",
            "    Uninstalling gast-0.3.3:\n",
            "      Successfully uninstalled gast-0.3.3\n",
            "  Found existing installation: tensorflow-estimator 2.4.0\n",
            "    Uninstalling tensorflow-estimator-2.4.0:\n",
            "      Successfully uninstalled tensorflow-estimator-2.4.0\n",
            "Successfully installed gast-0.2.2 keras-applications-1.0.8 tensorboard-1.15.0 tensorflow-estimator-1.15.1 tensorflow-gpu-1.15.0\n",
            "Collecting numba==0.48\n",
            "\u001b[?25l  Downloading https://files.pythonhosted.org/packages/39/dc/5ce4a94d98e8a31cab21b150e23ca2f09a7dd354c06a69f71801ecd890db/numba-0.48.0-1-cp37-cp37m-manylinux2014_x86_64.whl (3.5MB)\n",
            "\u001b[K     |████████████████████████████████| 3.6MB 7.5MB/s \n",
            "\u001b[?25hCollecting llvmlite<0.32.0,>=0.31.0dev0\n",
            "\u001b[?25l  Downloading https://files.pythonhosted.org/packages/a0/10/d02c0ac683fc47ecda3426249509cf771d748b6a2c0e9d5ebbee76a7b80a/llvmlite-0.31.0-cp37-cp37m-manylinux1_x86_64.whl (20.2MB)\n",
            "\u001b[K     |████████████████████████████████| 20.2MB 1.4MB/s \n",
            "\u001b[?25hRequirement already satisfied: numpy>=1.15 in /usr/local/lib/python3.7/dist-packages (from numba==0.48) (1.19.5)\n",
            "Requirement already satisfied: setuptools in /usr/local/lib/python3.7/dist-packages (from numba==0.48) (54.2.0)\n",
            "Installing collected packages: llvmlite, numba\n",
            "  Found existing installation: llvmlite 0.34.0\n",
            "    Uninstalling llvmlite-0.34.0:\n",
            "      Successfully uninstalled llvmlite-0.34.0\n",
            "  Found existing installation: numba 0.51.2\n",
            "    Uninstalling numba-0.51.2:\n",
            "      Successfully uninstalled numba-0.51.2\n",
            "Successfully installed llvmlite-0.31.0 numba-0.48.0\n",
            "TensorFlow 1.x selected.\n"
          ],
          "name": "stdout"
        }
      ]
    },
    {
      "cell_type": "markdown",
      "metadata": {
        "id": "ELJ1qrmHc12F"
      },
      "source": [
        "# generate"
      ]
    },
    {
      "cell_type": "code",
      "metadata": {
        "id": "eWNRdjZxcl4p"
      },
      "source": [
        "generated_dir=\"/content/drive/MyDrive/WAVENETS/GENERATED\"\n",
        "checkpoints_dir=\"/content/drive/MyDrive/WAVENETS/tensorflow-wavenet/logdir/train/\"\n",
        "wav_out_dir=\"/content/drive/MyDrive/WAVENETS/GENERATED/\""
      ],
      "execution_count": null,
      "outputs": []
    },
    {
      "cell_type": "code",
      "metadata": {
        "colab": {
          "base_uri": "https://localhost:8080/"
        },
        "id": "R4G3Ff_QeWSx",
        "outputId": "d92e4d15-2b8a-4a2d-89c4-d62be6008072"
      },
      "source": [
        "import os\n",
        "import numpy as np\n",
        "\n",
        "\n",
        "def get_training_steps(path):\n",
        "  # steps in training path\n",
        "  training_it = os.listdir(path)\n",
        "  training_it.remove('checkpoint')\n",
        "  steps = []\n",
        "  for idx,item in enumerate(training_it):\n",
        "    if item.startswith('events'): \n",
        "      continue\n",
        "    steps.append(item.split('.')[-2].split('-')[-1])\n",
        "  steps = list(set(steps))\n",
        "  steps.sort(key=int)\n",
        "  steps = [int(i) for i in steps]\n",
        "  return steps\n",
        "\n",
        "retry=1\n",
        "\n",
        "while retry:\n",
        "\n",
        "  # already generated steps\n",
        "  gen_steps = [int(g.split('.')[-2]) for g in os.listdir(generated_dir)]\n",
        "\n",
        "  for training in os.listdir(checkpoints_dir):\n",
        "  \n",
        "    # training path\n",
        "    training_path = os.path.join(checkpoints_dir,training)\n",
        "\n",
        "    steps = get_training_steps(training_path)\n",
        "\n",
        "    for step in steps:\n",
        "      if step in gen_steps: # do not generate already generated steps again\n",
        "        continue\n",
        "      wav_out_path = wav_out_dir + str(step) + '.wav'\n",
        "      checkpoint = training_path + '/model.ckpt-' + str(step)\n",
        "      wav_seed = os.path.join(data_dir,np.random.choice(os.listdir(data_dir)))\n",
        "      ! cd $root_dir && python generate.py --wav_out_path=$wav_out_path --samples=16000 $checkpoint --wav_seed=$wav_seed\n",
        "\n",
        "    #check if there's new steps\n",
        "    if set(get_training_steps(training_path)) != set(steps):\n",
        "      retry = 1\n",
        "    else:\n",
        "      retry = 0\n",
        "\n",
        "  "
      ],
      "execution_count": null,
      "outputs": [
        {
          "output_type": "stream",
          "text": [
            "Restoring model from /content/drive/MyDrive/WAVENETS/tensorflow-wavenet/logdir/train/2021-04-03T12-40-28/model.ckpt-99000\n",
            "Priming generation...\n",
            "Priming sample 0\n",
            "Priming sample 100\n",
            "Priming sample 200\n",
            "Priming sample 300\n",
            "Priming sample 400\n",
            "Priming sample 500\n",
            "Priming sample 600\n",
            "Priming sample 700\n",
            "Priming sample 800\n",
            "Priming sample 900\n",
            "Priming sample 1000\n",
            "Priming sample 1100\n",
            "Priming sample 1200\n",
            "Priming sample 1300\n",
            "Priming sample 1400\n",
            "Priming sample 1500\n",
            "Priming sample 1600\n",
            "Priming sample 1700\n",
            "Priming sample 1800\n",
            "Priming sample 1900\n",
            "Priming sample 2000\n",
            "Priming sample 2100\n",
            "Priming sample 2200\n",
            "Priming sample 2300\n",
            "Priming sample 2400\n",
            "Priming sample 2500\n",
            "Priming sample 2600\n",
            "Priming sample 2700\n",
            "Priming sample 2800\n",
            "Priming sample 2900\n",
            "Priming sample 3000\n",
            "Priming sample 3100\n",
            "Priming sample 3200\n",
            "Priming sample 3300\n",
            "Priming sample 3400\n",
            "Priming sample 3500\n",
            "Priming sample 3600\n",
            "Priming sample 3700\n",
            "Priming sample 3800\n",
            "Priming sample 3900\n",
            "Priming sample 4000\n",
            "Priming sample 4100\n",
            "Priming sample 4200\n",
            "Priming sample 4300\n",
            "Priming sample 4400\n",
            "Priming sample 4500\n",
            "Priming sample 4600\n",
            "Priming sample 4700\n",
            "Priming sample 4800\n",
            "Priming sample 4900\n",
            "Priming sample 5000\n",
            "Priming sample 5100\n",
            "Done.\n",
            "\n",
            "Updated wav file at /content/drive/MyDrive/WAVENETS/GENERATED/99000.wav\n",
            "Finished generating. The result can be viewed in TensorBoard.\n",
            "Restoring model from /content/drive/MyDrive/WAVENETS/tensorflow-wavenet/logdir/train/2021-04-03T12-40-28/model.ckpt-99500\n",
            "Priming generation...\n",
            "Priming sample 0\n",
            "Priming sample 100\n",
            "Priming sample 200\n",
            "Priming sample 300\n",
            "Priming sample 400\n",
            "Priming sample 500\n",
            "Priming sample 600\n",
            "Priming sample 700\n",
            "Priming sample 800\n",
            "Priming sample 900\n",
            "Priming sample 1000\n",
            "Priming sample 1100\n",
            "Priming sample 1200\n",
            "Priming sample 1300\n",
            "Priming sample 1400\n",
            "Priming sample 1500\n",
            "Priming sample 1600\n",
            "Priming sample 1700\n",
            "Priming sample 1800\n",
            "Priming sample 1900\n",
            "Priming sample 2000\n",
            "Priming sample 2100\n",
            "Priming sample 2200\n",
            "Priming sample 2300\n",
            "Priming sample 2400\n",
            "Priming sample 2500\n",
            "Priming sample 2600\n",
            "Priming sample 2700\n",
            "Priming sample 2800\n",
            "Priming sample 2900\n",
            "Priming sample 3000\n",
            "Priming sample 3100\n",
            "Priming sample 3200\n",
            "Priming sample 3300\n",
            "Priming sample 3400\n",
            "Priming sample 3500\n",
            "Priming sample 3600\n",
            "Priming sample 3700\n",
            "Priming sample 3800\n",
            "Priming sample 3900\n",
            "Priming sample 4000\n",
            "Priming sample 4100\n",
            "Priming sample 4200\n",
            "Priming sample 4300\n",
            "Priming sample 4400\n",
            "Priming sample 4500\n",
            "Priming sample 4600\n",
            "Priming sample 4700\n",
            "Priming sample 4800\n",
            "Priming sample 4900\n",
            "Priming sample 5000\n",
            "Priming sample 5100\n",
            "Done.\n",
            "\n",
            "Updated wav file at /content/drive/MyDrive/WAVENETS/GENERATED/99500.wav\n",
            "Finished generating. The result can be viewed in TensorBoard.\n",
            "Restoring model from /content/drive/MyDrive/WAVENETS/tensorflow-wavenet/logdir/train/2021-04-03T12-40-28/model.ckpt-99999\n",
            "Priming generation...\n",
            "Priming sample 0\n",
            "Priming sample 100\n",
            "Priming sample 200\n",
            "Priming sample 300\n",
            "Priming sample 400\n",
            "Priming sample 500\n",
            "Priming sample 600\n",
            "Priming sample 700\n",
            "Priming sample 800\n",
            "Priming sample 900\n",
            "Priming sample 1000\n",
            "Priming sample 1100\n",
            "Priming sample 1200\n",
            "Priming sample 1300\n",
            "Priming sample 1400\n",
            "Priming sample 1500\n",
            "Priming sample 1600\n",
            "Priming sample 1700\n",
            "Priming sample 1800\n",
            "Priming sample 1900\n",
            "Priming sample 2000\n",
            "Priming sample 2100\n",
            "Priming sample 2200\n",
            "Priming sample 2300\n",
            "Priming sample 2400\n",
            "Priming sample 2500\n",
            "Priming sample 2600\n",
            "Priming sample 2700\n",
            "Priming sample 2800\n",
            "Priming sample 2900\n",
            "Priming sample 3000\n",
            "Priming sample 3100\n",
            "Priming sample 3200\n",
            "Priming sample 3300\n",
            "Priming sample 3400\n",
            "Priming sample 3500\n",
            "Priming sample 3600\n",
            "Priming sample 3700\n",
            "Priming sample 3800\n",
            "Priming sample 3900\n",
            "Priming sample 4000\n",
            "Priming sample 4100\n",
            "Priming sample 4200\n",
            "Priming sample 4300\n",
            "Priming sample 4400\n",
            "Priming sample 4500\n",
            "Priming sample 4600\n",
            "Priming sample 4700\n",
            "Priming sample 4800\n",
            "Priming sample 4900\n",
            "Priming sample 5000\n",
            "Priming sample 5100\n",
            "Done.\n",
            "\n",
            "Updated wav file at /content/drive/MyDrive/WAVENETS/GENERATED/99999.wav\n",
            "Finished generating. The result can be viewed in TensorBoard.\n"
          ],
          "name": "stdout"
        }
      ]
    },
    {
      "cell_type": "code",
      "metadata": {
        "id": "NRCPayAggzqS"
      },
      "source": [
        "# helpers\n",
        "#import datetime\n",
        "\n",
        "    # date of training\n",
        "    #date = '-'.join(training.split('T')).split('-')\n",
        "    #date = [int(d) for d in date]\n",
        "    #date = datetime.datetime(date[0], date[1], date[2], hour=date[3], minute=date[4], second=date[3])\n"
      ],
      "execution_count": null,
      "outputs": []
    },
    {
      "cell_type": "markdown",
      "metadata": {
        "id": "semqfOIMu7rQ"
      },
      "source": [
        "# final generation"
      ]
    },
    {
      "cell_type": "code",
      "metadata": {
        "colab": {
          "base_uri": "https://localhost:8080/"
        },
        "id": "5gQvAONGu8vB",
        "outputId": "b662d899-9b6f-4291-97ee-b7065df96a8f"
      },
      "source": [
        "wav_out_path = wav_out_dir + 'final_3' + '.wav'\n",
        "\n",
        "training_path = '/content/drive/MyDrive/WAVENETS/tensorflow-wavenet/logdir/train/2021-04-03T12-40-28'\n",
        "step = 99999\n",
        "checkpoint = training_path + '/model.ckpt-' + str(step)\n",
        "\n",
        "wav_seed = os.path.join(data_dir,np.random.choice(os.listdir(data_dir)))\n",
        "\n",
        "samples= 30*16000\n",
        "\n",
        "! cd $root_dir && python generate.py --wav_out_path=$wav_out_path --samples=$samples $checkpoint --wav_seed=$wav_seed\n",
        "  "
      ],
      "execution_count": null,
      "outputs": [
        {
          "output_type": "stream",
          "text": [
            "Restoring model from /content/drive/MyDrive/WAVENETS/tensorflow-wavenet/logdir/train/2021-04-03T12-40-28/model.ckpt-99999\n",
            "Priming generation...\n",
            "Priming sample 0\n",
            "Priming sample 100\n",
            "Priming sample 200\n",
            "Priming sample 300\n",
            "Priming sample 400\n",
            "Priming sample 500\n",
            "Priming sample 600\n",
            "Priming sample 700\n",
            "Priming sample 800\n",
            "Priming sample 900\n",
            "Priming sample 1000\n",
            "Priming sample 1100\n",
            "Priming sample 1200\n",
            "Priming sample 1300\n",
            "Priming sample 1400\n",
            "Priming sample 1500\n",
            "Priming sample 1600\n",
            "Priming sample 1700\n",
            "Priming sample 1800\n",
            "Priming sample 1900\n",
            "Priming sample 2000\n",
            "Priming sample 2100\n",
            "Priming sample 2200\n",
            "Priming sample 2300\n",
            "Priming sample 2400\n",
            "Priming sample 2500\n",
            "Priming sample 2600\n",
            "Priming sample 2700\n",
            "Priming sample 2800\n",
            "Priming sample 2900\n",
            "Priming sample 3000\n",
            "Priming sample 3100\n",
            "Priming sample 3200\n",
            "Priming sample 3300\n",
            "Priming sample 3400\n",
            "Priming sample 3500\n",
            "Priming sample 3600\n",
            "Priming sample 3700\n",
            "Priming sample 3800\n",
            "Priming sample 3900\n",
            "Priming sample 4000\n",
            "Priming sample 4100\n",
            "Priming sample 4200\n",
            "Priming sample 4300\n",
            "Priming sample 4400\n",
            "Priming sample 4500\n",
            "Priming sample 4600\n",
            "Priming sample 4700\n",
            "Priming sample 4800\n",
            "Priming sample 4900\n",
            "Priming sample 5000\n",
            "Priming sample 5100\n",
            "Done.\n",
            "Sample 479993/480000\n",
            "Updated wav file at /content/drive/MyDrive/WAVENETS/GENERATED/final_3.wav\n",
            "Finished generating. The result can be viewed in TensorBoard.\n"
          ],
          "name": "stdout"
        }
      ]
    },
    {
      "cell_type": "code",
      "metadata": {
        "id": "YROyZB28vniB"
      },
      "source": [
        ""
      ],
      "execution_count": null,
      "outputs": []
    }
  ]
}